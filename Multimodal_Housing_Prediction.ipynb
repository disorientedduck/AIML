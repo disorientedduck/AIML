{
  "cells": [
    {
      "cell_type": "markdown",
      "metadata": {},
      "source": [
        "# \ud83c\udfe0 Multimodal ML: Housing Price Prediction Using Images + Tabular Data\n",
        "Predict housing prices using both structured features and images with a combined model."
      ]
    },
    {
      "cell_type": "code",
      "execution_count": null,
      "metadata": {},
      "outputs": [],
      "source": [
        "# \u2705 Step 0: Install Required Libraries\n",
        "!pip install pandas numpy scikit-learn torch torchvision matplotlib --quiet"
      ]
    },
    {
      "cell_type": "code",
      "execution_count": null,
      "metadata": {},
      "outputs": [],
      "source": [
        "# \ud83d\udce5 Step 1: Load Data (Sample Simulated)\n",
        "import pandas as pd\n",
        "import numpy as np\n",
        "import os\n",
        "from PIL import Image\n",
        "from torchvision import transforms\n",
        "\n",
        "# Simulated CSV (Replace with your real dataset)\n",
        "# CSV should contain a 'filename' column for image file name and 'price' as target\n",
        "csv_path = 'housing_data.csv'  # Replace with actual path\n",
        "image_folder = 'images/'       # Replace with your folder\n",
        "df = pd.read_csv(csv_path)\n",
        "df = df.dropna()\n",
        "\n",
        "# Example of loading and transforming images\n",
        "transform = transforms.Compose([\n",
        "    transforms.Resize((224, 224)),\n",
        "    transforms.ToTensor()\n",
        "])\n",
        "\n",
        "def load_image(img_path):\n",
        "    img = Image.open(os.path.join(image_folder, img_path)).convert('RGB')\n",
        "    return transform(img)\n",
        "\n",
        "# Load all images\n",
        "df['image_tensor'] = df['filename'].apply(load_image)"
      ]
    },
    {
      "cell_type": "code",
      "execution_count": null,
      "metadata": {},
      "outputs": [],
      "source": [
        "# \ud83d\udd0d Step 2: Tabular Feature Normalization\n",
        "from sklearn.model_selection import train_test_split\n",
        "from sklearn.preprocessing import StandardScaler\n",
        "\n",
        "# Drop unused and label columns\n",
        "tabular_features = df.drop(columns=['filename', 'price', 'image_tensor'])\n",
        "scaler = StandardScaler()\n",
        "X_tab = scaler.fit_transform(tabular_features)\n",
        "\n",
        "y = df['price'].values\n",
        "X_img = torch.stack(df['image_tensor'].tolist())\n",
        "\n",
        "# Train/test split\n",
        "X_tab_train, X_tab_test, X_img_train, X_img_test, y_train, y_test = train_test_split(\n",
        "    X_tab, X_img, y, test_size=0.2, random_state=42\n",
        ")"
      ]
    },
    {
      "cell_type": "code",
      "execution_count": null,
      "metadata": {},
      "outputs": [],
      "source": [
        "# \ud83e\udde0 Step 3: Define Multimodal Neural Network\n",
        "import torch\n",
        "import torch.nn as nn\n",
        "import torch.nn.functional as F\n",
        "\n",
        "class MultiModalNet(nn.Module):\n",
        "    def __init__(self, tabular_dim):\n",
        "        super(MultiModalNet, self).__init__()\n",
        "        self.cnn = nn.Sequential(\n",
        "            nn.Conv2d(3, 16, kernel_size=3, stride=2, padding=1),\n",
        "            nn.ReLU(),\n",
        "            nn.MaxPool2d(2),\n",
        "            nn.Conv2d(16, 32, kernel_size=3, stride=2, padding=1),\n",
        "            nn.ReLU(),\n",
        "            nn.AdaptiveAvgPool2d((1, 1))\n",
        "        )\n",
        "        self.tabular = nn.Sequential(\n",
        "            nn.Linear(tabular_dim, 64),\n",
        "            nn.ReLU(),\n",
        "            nn.Dropout(0.2)\n",
        "        )\n",
        "        self.fc = nn.Linear(32 + 64, 1)\n",
        "\n",
        "    def forward(self, x_img, x_tab):\n",
        "        x_img = self.cnn(x_img)\n",
        "        x_img = x_img.view(x_img.size(0), -1)\n",
        "        x_tab = self.tabular(x_tab)\n",
        "        x = torch.cat((x_img, x_tab), dim=1)\n",
        "        return self.fc(x).squeeze(1)"
      ]
    },
    {
      "cell_type": "code",
      "execution_count": null,
      "metadata": {},
      "outputs": [],
      "source": [
        "# \ud83d\ude86 Step 4: Train the Model\n",
        "from torch.utils.data import TensorDataset, DataLoader\n",
        "\n",
        "device = torch.device(\"cuda\" if torch.cuda.is_available() else \"cpu\")\n",
        "model = MultiModalNet(X_tab_train.shape[1]).to(device)\n",
        "optimizer = torch.optim.Adam(model.parameters(), lr=0.001)\n",
        "criterion = nn.MSELoss()\n",
        "\n",
        "train_ds = TensorDataset(torch.tensor(X_img_train).float(), torch.tensor(X_tab_train).float(), torch.tensor(y_train).float())\n",
        "train_dl = DataLoader(train_ds, batch_size=32, shuffle=True)\n",
        "\n",
        "# Training loop\n",
        "for epoch in range(10):\n",
        "    model.train()\n",
        "    total_loss = 0\n",
        "    for xb_img, xb_tab, yb in train_dl:\n",
        "        xb_img, xb_tab, yb = xb_img.to(device), xb_tab.to(device), yb.to(device)\n",
        "        optimizer.zero_grad()\n",
        "        preds = model(xb_img, xb_tab)\n",
        "        loss = criterion(preds, yb)\n",
        "        loss.backward()\n",
        "        optimizer.step()\n",
        "        total_loss += loss.item()\n",
        "    print(f\"Epoch {epoch+1}, Loss: {total_loss:.4f}\")"
      ]
    },
    {
      "cell_type": "code",
      "execution_count": null,
      "metadata": {},
      "outputs": [],
      "source": [
        "# \ud83d\udcca Step 5: Evaluate Model\n",
        "model.eval()\n",
        "with torch.no_grad():\n",
        "    preds = model(X_img_test.to(device).float(), torch.tensor(X_tab_test).float().to(device))\n",
        "    preds = preds.cpu().numpy()\n",
        "\n",
        "from sklearn.metrics import mean_absolute_error, mean_squared_error\n",
        "mae = mean_absolute_error(y_test, preds)\n",
        "rmse = np.sqrt(mean_squared_error(y_test, preds))\n",
        "\n",
        "print(\"MAE:\", mae)\n",
        "print(\"RMSE:\", rmse)"
      ]
    }
  ],
  "metadata": {
    "kernelspec": {
      "display_name": "Python 3",
      "language": "python",
      "name": "python3"
    },
    "language_info": {
      "name": "python",
      "version": "3.10"
    }
  },
  "nbformat": 4,
  "nbformat_minor": 5
}